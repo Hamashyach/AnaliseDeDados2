{
  "nbformat": 4,
  "nbformat_minor": 0,
  "metadata": {
    "colab": {
      "provenance": [],
      "authorship_tag": "ABX9TyNjDbdobsP30Os6wRIWC69T",
      "include_colab_link": true
    },
    "kernelspec": {
      "name": "python3",
      "display_name": "Python 3"
    },
    "language_info": {
      "name": "python"
    }
  },
  "cells": [
    {
      "cell_type": "markdown",
      "metadata": {
        "id": "view-in-github",
        "colab_type": "text"
      },
      "source": [
        "<a href=\"https://colab.research.google.com/github/Hamashyach/An-liseDeDados2/blob/main/Projeto2.ipynb\" target=\"_parent\"><img src=\"https://colab.research.google.com/assets/colab-badge.svg\" alt=\"Open In Colab\"/></a>"
      ]
    },
    {
      "cell_type": "markdown",
      "source": [
        "#Vendas Automotivas"
      ],
      "metadata": {
        "id": "UoRByRuCQb7b"
      }
    },
    {
      "cell_type": "markdown",
      "source": [
        "#Descrição geral:\n",
        "\n",
        "Base de dados com registros de pedidos realizados em uma empresa do setor automobilístico. Permite avaliar o desempenho de vendas, perfis de clientes e padrões de compra.\n",
        "\n",
        "#Dicionário de dados traduzido:\n",
        "\n",
        "- ORDERNUMBER: Número de identificação do pedido.\n",
        "- QUANTITYORDERED: Quantidade de itens solicitados\n",
        "- PRICEEACH: Preço unitário de cada item.\n",
        "- ORDERLINENUMBER: Número da linha dentro do pedido.\n",
        "- SALES: Total da venda (quantidade × preço).\n",
        "- ORDERDATE: Data do pedido.\n",
        "- DAYS_SINCE_LASTORDER: Dias desde o último pedido do cliente.\n",
        "- STATUS: Status do pedido (ex: Enviado, Em Processamento, Cancelado).\n",
        "- PRODUCTLINE: Categoria do produto.\n",
        "- MSRP: Preço de venda sugerido pelo fabricante.\n",
        "- PRODUCTCODE: Código do produto.\n",
        "- CUSTOMERNAME: Nome do cliente.\n",
        "- PHONE: Telefone de contato do cliente.\n",
        "- ADDRESSLINE1: Endereço do cliente.\n",
        "- CITY: Cidade do cliente.\n",
        "- POSTALCODE: Código postal do cliente.\n",
        "- COUNTRY: País do cliente.\n",
        "- CONTACTLASTNAME: Sobrenome do contato.\n",
        "- CONTACTFIRSTNAME: Nome do contato.\n",
        "- DEALSIZE: Tamanho do pedido (Pequeno, Médio, Grande).\n"
      ],
      "metadata": {
        "id": "HR4XzSZ_Qf6z"
      }
    },
    {
      "cell_type": "code",
      "execution_count": 123,
      "metadata": {
        "id": "DGtQ_ptZbxC1"
      },
      "outputs": [],
      "source": [
        "import seaborn as sns\n",
        "import matplotlib.pyplot as plt\n",
        "import pandas as pd\n",
        "import numpy as np\n",
        "\n",
        "from sklearn.datasets import fetch_openml\n",
        "from sklearn.model_selection import train_test_split\n",
        "from sklearn.metrics import mean_squared_error\n",
        "from sklearn.linear_model import LinearRegression\n",
        "from sklearn.tree import DecisionTreeRegressor\n",
        "from sklearn.ensemble import RandomForestRegressor\n",
        "from sklearn.svm import SVR\n",
        "from sklearn.preprocessing import StandardScaler\n",
        "from sklearn.pipeline import make_pipeline\n",
        "from sklearn.preprocessing import StandardScaler\n",
        "from sklearn.metrics import (\n",
        "    accuracy_score, precision_score,\n",
        "    recall_score, f1_score, confusion_matrix\n",
        ")\n",
        "\n",
        "from sklearn.linear_model import LogisticRegression\n",
        "from sklearn.tree import DecisionTreeClassifier\n",
        "from sklearn.svm import SVC\n",
        "from sklearn.neighbors import KNeighborsClassifier\n",
        "from sklearn.ensemble import RandomForestClassifier\n"
      ]
    },
    {
      "cell_type": "code",
      "source": [
        "df = pd.read_csv('/08_vendas_automotivas.csv')\n",
        "df.head(10)"
      ],
      "metadata": {
        "colab": {
          "base_uri": "https://localhost:8080/",
          "height": 591
        },
        "id": "T1IB4-d1b_v2",
        "outputId": "62419c0f-59a0-4609-9aac-6402e9ec9ac1"
      },
      "execution_count": 124,
      "outputs": [
        {
          "output_type": "execute_result",
          "data": {
            "text/plain": [
              "   ORDERNUMBER  QUANTITYORDERED  PRICEEACH  ORDERLINENUMBER    SALES  \\\n",
              "0        10107               30      95.70                2  2871.00   \n",
              "1        10121               34      81.35                5  2765.90   \n",
              "2        10134               41      94.74                2  3884.34   \n",
              "3        10145               45      83.26                6  3746.70   \n",
              "4        10168               36      96.66                1  3479.76   \n",
              "5        10180               29      86.13                9  2497.77   \n",
              "6        10188               48     114.84                1  5512.32   \n",
              "7        10211               41     114.84               14  4708.44   \n",
              "8        10223               37     107.18                1  3965.66   \n",
              "9        10237               23     101.44                7  2333.12   \n",
              "\n",
              "    ORDERDATE  DAYS_SINCE_LASTORDER   STATUS  PRODUCTLINE  MSRP PRODUCTCODE  \\\n",
              "0  24/02/2018                   828  Shipped  Motorcycles    95    S10_1678   \n",
              "1  07/05/2018                   757  Shipped  Motorcycles    95    S10_1678   \n",
              "2  01/07/2018                   703  Shipped  Motorcycles    95    S10_1678   \n",
              "3  25/08/2018                   649  Shipped  Motorcycles    95    S10_1678   \n",
              "4  28/10/2018                   586  Shipped  Motorcycles    95    S10_1678   \n",
              "5  11/11/2018                   573  Shipped  Motorcycles    95    S10_1678   \n",
              "6  18/11/2018                   567  Shipped  Motorcycles    95    S10_1678   \n",
              "7  15/01/2019                   510  Shipped  Motorcycles    95    S10_1678   \n",
              "8  20/02/2019                   475  Shipped  Motorcycles    95    S10_1678   \n",
              "9  05/04/2019                   432  Shipped  Motorcycles    95    S10_1678   \n",
              "\n",
              "                 CUSTOMERNAME             PHONE  \\\n",
              "0           Land of Toys Inc.        2125557818   \n",
              "1          Reims Collectables        26.47.1555   \n",
              "2             Lyon Souveniers  +33 1 46 62 7555   \n",
              "3           Toys4GrownUps.com        6265557265   \n",
              "4        Technics Stores Inc.        6505556809   \n",
              "5    Daedalus Designs Imports        20.16.1555   \n",
              "6                Herkku Gifts     +47 2267 3215   \n",
              "7            Auto Canal Petit    (1) 47.55.6555   \n",
              "8  Australian Collectors, Co.      03 9520 4555   \n",
              "9             Vitachrome Inc.        2125551500   \n",
              "\n",
              "                    ADDRESSLINE1        CITY POSTALCODE    COUNTRY  \\\n",
              "0        897 Long Airport Avenue         NYC      10022        USA   \n",
              "1             59 rue de l'Abbaye       Reims      51100     France   \n",
              "2  27 rue du Colonel Pierre Avia       Paris      75508     France   \n",
              "3             78934 Hillside Dr.    Pasadena      90003        USA   \n",
              "4              9408 Furth Circle  Burlingame      94217        USA   \n",
              "5        184, chausse de Tournai       Lille      59000     France   \n",
              "6    Drammen 121, PR 744 Sentrum      Bergen     N 5804     Norway   \n",
              "7              25, rue Lauriston       Paris      75016     France   \n",
              "8              636 St Kilda Road   Melbourne       3004  Australia   \n",
              "9              2678 Kingston Rd.         NYC      10022        USA   \n",
              "\n",
              "  CONTACTLASTNAME CONTACTFIRSTNAME DEALSIZE  \n",
              "0              Yu             Kwai    Small  \n",
              "1         Henriot             Paul    Small  \n",
              "2        Da Cunha           Daniel   Medium  \n",
              "3           Young            Julie   Medium  \n",
              "4          Hirano             Juri   Medium  \n",
              "5           Rance          Martine    Small  \n",
              "6          Oeztan           Veysel   Medium  \n",
              "7         Perrier        Dominique   Medium  \n",
              "8        Ferguson            Peter   Medium  \n",
              "9           Frick          Michael    Small  "
            ],
            "text/html": [
              "\n",
              "  <div id=\"df-c84927de-70db-45b1-919c-cd7168907369\" class=\"colab-df-container\">\n",
              "    <div>\n",
              "<style scoped>\n",
              "    .dataframe tbody tr th:only-of-type {\n",
              "        vertical-align: middle;\n",
              "    }\n",
              "\n",
              "    .dataframe tbody tr th {\n",
              "        vertical-align: top;\n",
              "    }\n",
              "\n",
              "    .dataframe thead th {\n",
              "        text-align: right;\n",
              "    }\n",
              "</style>\n",
              "<table border=\"1\" class=\"dataframe\">\n",
              "  <thead>\n",
              "    <tr style=\"text-align: right;\">\n",
              "      <th></th>\n",
              "      <th>ORDERNUMBER</th>\n",
              "      <th>QUANTITYORDERED</th>\n",
              "      <th>PRICEEACH</th>\n",
              "      <th>ORDERLINENUMBER</th>\n",
              "      <th>SALES</th>\n",
              "      <th>ORDERDATE</th>\n",
              "      <th>DAYS_SINCE_LASTORDER</th>\n",
              "      <th>STATUS</th>\n",
              "      <th>PRODUCTLINE</th>\n",
              "      <th>MSRP</th>\n",
              "      <th>PRODUCTCODE</th>\n",
              "      <th>CUSTOMERNAME</th>\n",
              "      <th>PHONE</th>\n",
              "      <th>ADDRESSLINE1</th>\n",
              "      <th>CITY</th>\n",
              "      <th>POSTALCODE</th>\n",
              "      <th>COUNTRY</th>\n",
              "      <th>CONTACTLASTNAME</th>\n",
              "      <th>CONTACTFIRSTNAME</th>\n",
              "      <th>DEALSIZE</th>\n",
              "    </tr>\n",
              "  </thead>\n",
              "  <tbody>\n",
              "    <tr>\n",
              "      <th>0</th>\n",
              "      <td>10107</td>\n",
              "      <td>30</td>\n",
              "      <td>95.70</td>\n",
              "      <td>2</td>\n",
              "      <td>2871.00</td>\n",
              "      <td>24/02/2018</td>\n",
              "      <td>828</td>\n",
              "      <td>Shipped</td>\n",
              "      <td>Motorcycles</td>\n",
              "      <td>95</td>\n",
              "      <td>S10_1678</td>\n",
              "      <td>Land of Toys Inc.</td>\n",
              "      <td>2125557818</td>\n",
              "      <td>897 Long Airport Avenue</td>\n",
              "      <td>NYC</td>\n",
              "      <td>10022</td>\n",
              "      <td>USA</td>\n",
              "      <td>Yu</td>\n",
              "      <td>Kwai</td>\n",
              "      <td>Small</td>\n",
              "    </tr>\n",
              "    <tr>\n",
              "      <th>1</th>\n",
              "      <td>10121</td>\n",
              "      <td>34</td>\n",
              "      <td>81.35</td>\n",
              "      <td>5</td>\n",
              "      <td>2765.90</td>\n",
              "      <td>07/05/2018</td>\n",
              "      <td>757</td>\n",
              "      <td>Shipped</td>\n",
              "      <td>Motorcycles</td>\n",
              "      <td>95</td>\n",
              "      <td>S10_1678</td>\n",
              "      <td>Reims Collectables</td>\n",
              "      <td>26.47.1555</td>\n",
              "      <td>59 rue de l'Abbaye</td>\n",
              "      <td>Reims</td>\n",
              "      <td>51100</td>\n",
              "      <td>France</td>\n",
              "      <td>Henriot</td>\n",
              "      <td>Paul</td>\n",
              "      <td>Small</td>\n",
              "    </tr>\n",
              "    <tr>\n",
              "      <th>2</th>\n",
              "      <td>10134</td>\n",
              "      <td>41</td>\n",
              "      <td>94.74</td>\n",
              "      <td>2</td>\n",
              "      <td>3884.34</td>\n",
              "      <td>01/07/2018</td>\n",
              "      <td>703</td>\n",
              "      <td>Shipped</td>\n",
              "      <td>Motorcycles</td>\n",
              "      <td>95</td>\n",
              "      <td>S10_1678</td>\n",
              "      <td>Lyon Souveniers</td>\n",
              "      <td>+33 1 46 62 7555</td>\n",
              "      <td>27 rue du Colonel Pierre Avia</td>\n",
              "      <td>Paris</td>\n",
              "      <td>75508</td>\n",
              "      <td>France</td>\n",
              "      <td>Da Cunha</td>\n",
              "      <td>Daniel</td>\n",
              "      <td>Medium</td>\n",
              "    </tr>\n",
              "    <tr>\n",
              "      <th>3</th>\n",
              "      <td>10145</td>\n",
              "      <td>45</td>\n",
              "      <td>83.26</td>\n",
              "      <td>6</td>\n",
              "      <td>3746.70</td>\n",
              "      <td>25/08/2018</td>\n",
              "      <td>649</td>\n",
              "      <td>Shipped</td>\n",
              "      <td>Motorcycles</td>\n",
              "      <td>95</td>\n",
              "      <td>S10_1678</td>\n",
              "      <td>Toys4GrownUps.com</td>\n",
              "      <td>6265557265</td>\n",
              "      <td>78934 Hillside Dr.</td>\n",
              "      <td>Pasadena</td>\n",
              "      <td>90003</td>\n",
              "      <td>USA</td>\n",
              "      <td>Young</td>\n",
              "      <td>Julie</td>\n",
              "      <td>Medium</td>\n",
              "    </tr>\n",
              "    <tr>\n",
              "      <th>4</th>\n",
              "      <td>10168</td>\n",
              "      <td>36</td>\n",
              "      <td>96.66</td>\n",
              "      <td>1</td>\n",
              "      <td>3479.76</td>\n",
              "      <td>28/10/2018</td>\n",
              "      <td>586</td>\n",
              "      <td>Shipped</td>\n",
              "      <td>Motorcycles</td>\n",
              "      <td>95</td>\n",
              "      <td>S10_1678</td>\n",
              "      <td>Technics Stores Inc.</td>\n",
              "      <td>6505556809</td>\n",
              "      <td>9408 Furth Circle</td>\n",
              "      <td>Burlingame</td>\n",
              "      <td>94217</td>\n",
              "      <td>USA</td>\n",
              "      <td>Hirano</td>\n",
              "      <td>Juri</td>\n",
              "      <td>Medium</td>\n",
              "    </tr>\n",
              "    <tr>\n",
              "      <th>5</th>\n",
              "      <td>10180</td>\n",
              "      <td>29</td>\n",
              "      <td>86.13</td>\n",
              "      <td>9</td>\n",
              "      <td>2497.77</td>\n",
              "      <td>11/11/2018</td>\n",
              "      <td>573</td>\n",
              "      <td>Shipped</td>\n",
              "      <td>Motorcycles</td>\n",
              "      <td>95</td>\n",
              "      <td>S10_1678</td>\n",
              "      <td>Daedalus Designs Imports</td>\n",
              "      <td>20.16.1555</td>\n",
              "      <td>184, chausse de Tournai</td>\n",
              "      <td>Lille</td>\n",
              "      <td>59000</td>\n",
              "      <td>France</td>\n",
              "      <td>Rance</td>\n",
              "      <td>Martine</td>\n",
              "      <td>Small</td>\n",
              "    </tr>\n",
              "    <tr>\n",
              "      <th>6</th>\n",
              "      <td>10188</td>\n",
              "      <td>48</td>\n",
              "      <td>114.84</td>\n",
              "      <td>1</td>\n",
              "      <td>5512.32</td>\n",
              "      <td>18/11/2018</td>\n",
              "      <td>567</td>\n",
              "      <td>Shipped</td>\n",
              "      <td>Motorcycles</td>\n",
              "      <td>95</td>\n",
              "      <td>S10_1678</td>\n",
              "      <td>Herkku Gifts</td>\n",
              "      <td>+47 2267 3215</td>\n",
              "      <td>Drammen 121, PR 744 Sentrum</td>\n",
              "      <td>Bergen</td>\n",
              "      <td>N 5804</td>\n",
              "      <td>Norway</td>\n",
              "      <td>Oeztan</td>\n",
              "      <td>Veysel</td>\n",
              "      <td>Medium</td>\n",
              "    </tr>\n",
              "    <tr>\n",
              "      <th>7</th>\n",
              "      <td>10211</td>\n",
              "      <td>41</td>\n",
              "      <td>114.84</td>\n",
              "      <td>14</td>\n",
              "      <td>4708.44</td>\n",
              "      <td>15/01/2019</td>\n",
              "      <td>510</td>\n",
              "      <td>Shipped</td>\n",
              "      <td>Motorcycles</td>\n",
              "      <td>95</td>\n",
              "      <td>S10_1678</td>\n",
              "      <td>Auto Canal Petit</td>\n",
              "      <td>(1) 47.55.6555</td>\n",
              "      <td>25, rue Lauriston</td>\n",
              "      <td>Paris</td>\n",
              "      <td>75016</td>\n",
              "      <td>France</td>\n",
              "      <td>Perrier</td>\n",
              "      <td>Dominique</td>\n",
              "      <td>Medium</td>\n",
              "    </tr>\n",
              "    <tr>\n",
              "      <th>8</th>\n",
              "      <td>10223</td>\n",
              "      <td>37</td>\n",
              "      <td>107.18</td>\n",
              "      <td>1</td>\n",
              "      <td>3965.66</td>\n",
              "      <td>20/02/2019</td>\n",
              "      <td>475</td>\n",
              "      <td>Shipped</td>\n",
              "      <td>Motorcycles</td>\n",
              "      <td>95</td>\n",
              "      <td>S10_1678</td>\n",
              "      <td>Australian Collectors, Co.</td>\n",
              "      <td>03 9520 4555</td>\n",
              "      <td>636 St Kilda Road</td>\n",
              "      <td>Melbourne</td>\n",
              "      <td>3004</td>\n",
              "      <td>Australia</td>\n",
              "      <td>Ferguson</td>\n",
              "      <td>Peter</td>\n",
              "      <td>Medium</td>\n",
              "    </tr>\n",
              "    <tr>\n",
              "      <th>9</th>\n",
              "      <td>10237</td>\n",
              "      <td>23</td>\n",
              "      <td>101.44</td>\n",
              "      <td>7</td>\n",
              "      <td>2333.12</td>\n",
              "      <td>05/04/2019</td>\n",
              "      <td>432</td>\n",
              "      <td>Shipped</td>\n",
              "      <td>Motorcycles</td>\n",
              "      <td>95</td>\n",
              "      <td>S10_1678</td>\n",
              "      <td>Vitachrome Inc.</td>\n",
              "      <td>2125551500</td>\n",
              "      <td>2678 Kingston Rd.</td>\n",
              "      <td>NYC</td>\n",
              "      <td>10022</td>\n",
              "      <td>USA</td>\n",
              "      <td>Frick</td>\n",
              "      <td>Michael</td>\n",
              "      <td>Small</td>\n",
              "    </tr>\n",
              "  </tbody>\n",
              "</table>\n",
              "</div>\n",
              "    <div class=\"colab-df-buttons\">\n",
              "\n",
              "  <div class=\"colab-df-container\">\n",
              "    <button class=\"colab-df-convert\" onclick=\"convertToInteractive('df-c84927de-70db-45b1-919c-cd7168907369')\"\n",
              "            title=\"Convert this dataframe to an interactive table.\"\n",
              "            style=\"display:none;\">\n",
              "\n",
              "  <svg xmlns=\"http://www.w3.org/2000/svg\" height=\"24px\" viewBox=\"0 -960 960 960\">\n",
              "    <path d=\"M120-120v-720h720v720H120Zm60-500h600v-160H180v160Zm220 220h160v-160H400v160Zm0 220h160v-160H400v160ZM180-400h160v-160H180v160Zm440 0h160v-160H620v160ZM180-180h160v-160H180v160Zm440 0h160v-160H620v160Z\"/>\n",
              "  </svg>\n",
              "    </button>\n",
              "\n",
              "  <style>\n",
              "    .colab-df-container {\n",
              "      display:flex;\n",
              "      gap: 12px;\n",
              "    }\n",
              "\n",
              "    .colab-df-convert {\n",
              "      background-color: #E8F0FE;\n",
              "      border: none;\n",
              "      border-radius: 50%;\n",
              "      cursor: pointer;\n",
              "      display: none;\n",
              "      fill: #1967D2;\n",
              "      height: 32px;\n",
              "      padding: 0 0 0 0;\n",
              "      width: 32px;\n",
              "    }\n",
              "\n",
              "    .colab-df-convert:hover {\n",
              "      background-color: #E2EBFA;\n",
              "      box-shadow: 0px 1px 2px rgba(60, 64, 67, 0.3), 0px 1px 3px 1px rgba(60, 64, 67, 0.15);\n",
              "      fill: #174EA6;\n",
              "    }\n",
              "\n",
              "    .colab-df-buttons div {\n",
              "      margin-bottom: 4px;\n",
              "    }\n",
              "\n",
              "    [theme=dark] .colab-df-convert {\n",
              "      background-color: #3B4455;\n",
              "      fill: #D2E3FC;\n",
              "    }\n",
              "\n",
              "    [theme=dark] .colab-df-convert:hover {\n",
              "      background-color: #434B5C;\n",
              "      box-shadow: 0px 1px 3px 1px rgba(0, 0, 0, 0.15);\n",
              "      filter: drop-shadow(0px 1px 2px rgba(0, 0, 0, 0.3));\n",
              "      fill: #FFFFFF;\n",
              "    }\n",
              "  </style>\n",
              "\n",
              "    <script>\n",
              "      const buttonEl =\n",
              "        document.querySelector('#df-c84927de-70db-45b1-919c-cd7168907369 button.colab-df-convert');\n",
              "      buttonEl.style.display =\n",
              "        google.colab.kernel.accessAllowed ? 'block' : 'none';\n",
              "\n",
              "      async function convertToInteractive(key) {\n",
              "        const element = document.querySelector('#df-c84927de-70db-45b1-919c-cd7168907369');\n",
              "        const dataTable =\n",
              "          await google.colab.kernel.invokeFunction('convertToInteractive',\n",
              "                                                    [key], {});\n",
              "        if (!dataTable) return;\n",
              "\n",
              "        const docLinkHtml = 'Like what you see? Visit the ' +\n",
              "          '<a target=\"_blank\" href=https://colab.research.google.com/notebooks/data_table.ipynb>data table notebook</a>'\n",
              "          + ' to learn more about interactive tables.';\n",
              "        element.innerHTML = '';\n",
              "        dataTable['output_type'] = 'display_data';\n",
              "        await google.colab.output.renderOutput(dataTable, element);\n",
              "        const docLink = document.createElement('div');\n",
              "        docLink.innerHTML = docLinkHtml;\n",
              "        element.appendChild(docLink);\n",
              "      }\n",
              "    </script>\n",
              "  </div>\n",
              "\n",
              "\n",
              "    <div id=\"df-048c7e7c-3ac1-4cf2-8709-8ec5eb8870dd\">\n",
              "      <button class=\"colab-df-quickchart\" onclick=\"quickchart('df-048c7e7c-3ac1-4cf2-8709-8ec5eb8870dd')\"\n",
              "                title=\"Suggest charts\"\n",
              "                style=\"display:none;\">\n",
              "\n",
              "<svg xmlns=\"http://www.w3.org/2000/svg\" height=\"24px\"viewBox=\"0 0 24 24\"\n",
              "     width=\"24px\">\n",
              "    <g>\n",
              "        <path d=\"M19 3H5c-1.1 0-2 .9-2 2v14c0 1.1.9 2 2 2h14c1.1 0 2-.9 2-2V5c0-1.1-.9-2-2-2zM9 17H7v-7h2v7zm4 0h-2V7h2v10zm4 0h-2v-4h2v4z\"/>\n",
              "    </g>\n",
              "</svg>\n",
              "      </button>\n",
              "\n",
              "<style>\n",
              "  .colab-df-quickchart {\n",
              "      --bg-color: #E8F0FE;\n",
              "      --fill-color: #1967D2;\n",
              "      --hover-bg-color: #E2EBFA;\n",
              "      --hover-fill-color: #174EA6;\n",
              "      --disabled-fill-color: #AAA;\n",
              "      --disabled-bg-color: #DDD;\n",
              "  }\n",
              "\n",
              "  [theme=dark] .colab-df-quickchart {\n",
              "      --bg-color: #3B4455;\n",
              "      --fill-color: #D2E3FC;\n",
              "      --hover-bg-color: #434B5C;\n",
              "      --hover-fill-color: #FFFFFF;\n",
              "      --disabled-bg-color: #3B4455;\n",
              "      --disabled-fill-color: #666;\n",
              "  }\n",
              "\n",
              "  .colab-df-quickchart {\n",
              "    background-color: var(--bg-color);\n",
              "    border: none;\n",
              "    border-radius: 50%;\n",
              "    cursor: pointer;\n",
              "    display: none;\n",
              "    fill: var(--fill-color);\n",
              "    height: 32px;\n",
              "    padding: 0;\n",
              "    width: 32px;\n",
              "  }\n",
              "\n",
              "  .colab-df-quickchart:hover {\n",
              "    background-color: var(--hover-bg-color);\n",
              "    box-shadow: 0 1px 2px rgba(60, 64, 67, 0.3), 0 1px 3px 1px rgba(60, 64, 67, 0.15);\n",
              "    fill: var(--button-hover-fill-color);\n",
              "  }\n",
              "\n",
              "  .colab-df-quickchart-complete:disabled,\n",
              "  .colab-df-quickchart-complete:disabled:hover {\n",
              "    background-color: var(--disabled-bg-color);\n",
              "    fill: var(--disabled-fill-color);\n",
              "    box-shadow: none;\n",
              "  }\n",
              "\n",
              "  .colab-df-spinner {\n",
              "    border: 2px solid var(--fill-color);\n",
              "    border-color: transparent;\n",
              "    border-bottom-color: var(--fill-color);\n",
              "    animation:\n",
              "      spin 1s steps(1) infinite;\n",
              "  }\n",
              "\n",
              "  @keyframes spin {\n",
              "    0% {\n",
              "      border-color: transparent;\n",
              "      border-bottom-color: var(--fill-color);\n",
              "      border-left-color: var(--fill-color);\n",
              "    }\n",
              "    20% {\n",
              "      border-color: transparent;\n",
              "      border-left-color: var(--fill-color);\n",
              "      border-top-color: var(--fill-color);\n",
              "    }\n",
              "    30% {\n",
              "      border-color: transparent;\n",
              "      border-left-color: var(--fill-color);\n",
              "      border-top-color: var(--fill-color);\n",
              "      border-right-color: var(--fill-color);\n",
              "    }\n",
              "    40% {\n",
              "      border-color: transparent;\n",
              "      border-right-color: var(--fill-color);\n",
              "      border-top-color: var(--fill-color);\n",
              "    }\n",
              "    60% {\n",
              "      border-color: transparent;\n",
              "      border-right-color: var(--fill-color);\n",
              "    }\n",
              "    80% {\n",
              "      border-color: transparent;\n",
              "      border-right-color: var(--fill-color);\n",
              "      border-bottom-color: var(--fill-color);\n",
              "    }\n",
              "    90% {\n",
              "      border-color: transparent;\n",
              "      border-bottom-color: var(--fill-color);\n",
              "    }\n",
              "  }\n",
              "</style>\n",
              "\n",
              "      <script>\n",
              "        async function quickchart(key) {\n",
              "          const quickchartButtonEl =\n",
              "            document.querySelector('#' + key + ' button');\n",
              "          quickchartButtonEl.disabled = true;  // To prevent multiple clicks.\n",
              "          quickchartButtonEl.classList.add('colab-df-spinner');\n",
              "          try {\n",
              "            const charts = await google.colab.kernel.invokeFunction(\n",
              "                'suggestCharts', [key], {});\n",
              "          } catch (error) {\n",
              "            console.error('Error during call to suggestCharts:', error);\n",
              "          }\n",
              "          quickchartButtonEl.classList.remove('colab-df-spinner');\n",
              "          quickchartButtonEl.classList.add('colab-df-quickchart-complete');\n",
              "        }\n",
              "        (() => {\n",
              "          let quickchartButtonEl =\n",
              "            document.querySelector('#df-048c7e7c-3ac1-4cf2-8709-8ec5eb8870dd button');\n",
              "          quickchartButtonEl.style.display =\n",
              "            google.colab.kernel.accessAllowed ? 'block' : 'none';\n",
              "        })();\n",
              "      </script>\n",
              "    </div>\n",
              "\n",
              "    </div>\n",
              "  </div>\n"
            ],
            "application/vnd.google.colaboratory.intrinsic+json": {
              "type": "dataframe",
              "variable_name": "df",
              "summary": "{\n  \"name\": \"df\",\n  \"rows\": 2747,\n  \"fields\": [\n    {\n      \"column\": \"ORDERNUMBER\",\n      \"properties\": {\n        \"dtype\": \"number\",\n        \"std\": 91,\n        \"min\": 10100,\n        \"max\": 10425,\n        \"num_unique_values\": 298,\n        \"samples\": [\n          10195,\n          10355,\n          10177\n        ],\n        \"semantic_type\": \"\",\n        \"description\": \"\"\n      }\n    },\n    {\n      \"column\": \"QUANTITYORDERED\",\n      \"properties\": {\n        \"dtype\": \"number\",\n        \"std\": 9,\n        \"min\": 6,\n        \"max\": 97,\n        \"num_unique_values\": 58,\n        \"samples\": [\n          30,\n          29,\n          19\n        ],\n        \"semantic_type\": \"\",\n        \"description\": \"\"\n      }\n    },\n    {\n      \"column\": \"PRICEEACH\",\n      \"properties\": {\n        \"dtype\": \"number\",\n        \"std\": 42.04254924789503,\n        \"min\": 26.88,\n        \"max\": 252.87,\n        \"num_unique_values\": 1843,\n        \"samples\": [\n          73.61,\n          39.43,\n          110.96\n        ],\n        \"semantic_type\": \"\",\n        \"description\": \"\"\n      }\n    },\n    {\n      \"column\": \"ORDERLINENUMBER\",\n      \"properties\": {\n        \"dtype\": \"number\",\n        \"std\": 4,\n        \"min\": 1,\n        \"max\": 18,\n        \"num_unique_values\": 18,\n        \"samples\": [\n          2,\n          5,\n          12\n        ],\n        \"semantic_type\": \"\",\n        \"description\": \"\"\n      }\n    },\n    {\n      \"column\": \"SALES\",\n      \"properties\": {\n        \"dtype\": \"number\",\n        \"std\": 1838.9539005448687,\n        \"min\": 482.13,\n        \"max\": 14082.8,\n        \"num_unique_values\": 2690,\n        \"samples\": [\n          1649.18,\n          2168.5,\n          2694.72\n        ],\n        \"semantic_type\": \"\",\n        \"description\": \"\"\n      }\n    },\n    {\n      \"column\": \"ORDERDATE\",\n      \"properties\": {\n        \"dtype\": \"object\",\n        \"num_unique_values\": 246,\n        \"samples\": [\n          \"05/12/2018\",\n          \"18/11/2018\",\n          \"11/05/2019\"\n        ],\n        \"semantic_type\": \"\",\n        \"description\": \"\"\n      }\n    },\n    {\n      \"column\": \"DAYS_SINCE_LASTORDER\",\n      \"properties\": {\n        \"dtype\": \"number\",\n        \"std\": 819,\n        \"min\": 42,\n        \"max\": 3562,\n        \"num_unique_values\": 1832,\n        \"samples\": [\n          618,\n          2891,\n          2362\n        ],\n        \"semantic_type\": \"\",\n        \"description\": \"\"\n      }\n    },\n    {\n      \"column\": \"STATUS\",\n      \"properties\": {\n        \"dtype\": \"category\",\n        \"num_unique_values\": 6,\n        \"samples\": [\n          \"Shipped\",\n          \"Disputed\",\n          \"Resolved\"\n        ],\n        \"semantic_type\": \"\",\n        \"description\": \"\"\n      }\n    },\n    {\n      \"column\": \"PRODUCTLINE\",\n      \"properties\": {\n        \"dtype\": \"category\",\n        \"num_unique_values\": 7,\n        \"samples\": [\n          \"Motorcycles\",\n          \"Classic Cars\",\n          \"Ships\"\n        ],\n        \"semantic_type\": \"\",\n        \"description\": \"\"\n      }\n    },\n    {\n      \"column\": \"MSRP\",\n      \"properties\": {\n        \"dtype\": \"number\",\n        \"std\": 40,\n        \"min\": 33,\n        \"max\": 214,\n        \"num_unique_values\": 80,\n        \"samples\": [\n          101,\n          95,\n          142\n        ],\n        \"semantic_type\": \"\",\n        \"description\": \"\"\n      }\n    },\n    {\n      \"column\": \"PRODUCTCODE\",\n      \"properties\": {\n        \"dtype\": \"category\",\n        \"num_unique_values\": 109,\n        \"samples\": [\n          \"S24_3969\",\n          \"S12_3148\",\n          \"S10_4757\"\n        ],\n        \"semantic_type\": \"\",\n        \"description\": \"\"\n      }\n    },\n    {\n      \"column\": \"CUSTOMERNAME\",\n      \"properties\": {\n        \"dtype\": \"category\",\n        \"num_unique_values\": 89,\n        \"samples\": [\n          \"Atelier graphique\",\n          \"Petit Auto\",\n          \"West Coast Collectables Co.\"\n        ],\n        \"semantic_type\": \"\",\n        \"description\": \"\"\n      }\n    },\n    {\n      \"column\": \"PHONE\",\n      \"properties\": {\n        \"dtype\": \"category\",\n        \"num_unique_values\": 88,\n        \"samples\": [\n          \"3105552373\",\n          \"2125557818\",\n          \"61-7-3844-6555\"\n        ],\n        \"semantic_type\": \"\",\n        \"description\": \"\"\n      }\n    },\n    {\n      \"column\": \"ADDRESSLINE1\",\n      \"properties\": {\n        \"dtype\": \"category\",\n        \"num_unique_values\": 89,\n        \"samples\": [\n          \"54, rue Royale\",\n          \"Rue Joseph-Bens 532\",\n          \"3675 Furth Circle\"\n        ],\n        \"semantic_type\": \"\",\n        \"description\": \"\"\n      }\n    },\n    {\n      \"column\": \"CITY\",\n      \"properties\": {\n        \"dtype\": \"category\",\n        \"num_unique_values\": 71,\n        \"samples\": [\n          \"South Brisbane\",\n          \"NYC\",\n          \"San Jose\"\n        ],\n        \"semantic_type\": \"\",\n        \"description\": \"\"\n      }\n    },\n    {\n      \"column\": \"POSTALCODE\",\n      \"properties\": {\n        \"dtype\": \"category\",\n        \"num_unique_values\": 73,\n        \"samples\": [\n          \"94217\",\n          \"92561\",\n          \"50553\"\n        ],\n        \"semantic_type\": \"\",\n        \"description\": \"\"\n      }\n    },\n    {\n      \"column\": \"COUNTRY\",\n      \"properties\": {\n        \"dtype\": \"category\",\n        \"num_unique_values\": 19,\n        \"samples\": [\n          \"USA\",\n          \"Austria\",\n          \"Japan\"\n        ],\n        \"semantic_type\": \"\",\n        \"description\": \"\"\n      }\n    },\n    {\n      \"column\": \"CONTACTLASTNAME\",\n      \"properties\": {\n        \"dtype\": \"category\",\n        \"num_unique_values\": 76,\n        \"samples\": [\n          \"Hirano\",\n          \"Nelson\",\n          \"Brown\"\n        ],\n        \"semantic_type\": \"\",\n        \"description\": \"\"\n      }\n    },\n    {\n      \"column\": \"CONTACTFIRSTNAME\",\n      \"properties\": {\n        \"dtype\": \"category\",\n        \"num_unique_values\": 72,\n        \"samples\": [\n          \"Juri\",\n          \"Victoria\",\n          \"Violeta\"\n        ],\n        \"semantic_type\": \"\",\n        \"description\": \"\"\n      }\n    },\n    {\n      \"column\": \"DEALSIZE\",\n      \"properties\": {\n        \"dtype\": \"category\",\n        \"num_unique_values\": 3,\n        \"samples\": [\n          \"Small\",\n          \"Medium\",\n          \"Large\"\n        ],\n        \"semantic_type\": \"\",\n        \"description\": \"\"\n      }\n    }\n  ]\n}"
            }
          },
          "metadata": {},
          "execution_count": 124
        }
      ]
    },
    {
      "cell_type": "code",
      "source": [
        "print(f'O dataset possui {df.shape[0]} entradas (registros) e {df.shape[1]} atributos (variáveis).')\n",
        "print(f'\\nOs tipos dos atributos são do tipo:\\n{df.dtypes}')"
      ],
      "metadata": {
        "colab": {
          "base_uri": "https://localhost:8080/"
        },
        "id": "aTNPqOSAcQoX",
        "outputId": "f4c1aab0-c7e5-40f9-804b-e6e78e3b300e"
      },
      "execution_count": 125,
      "outputs": [
        {
          "output_type": "stream",
          "name": "stdout",
          "text": [
            "O dataset possui 2747 entradas (registros) e 20 atributos (variáveis).\n",
            "\n",
            "Os tipos dos atributos são do tipo:\n",
            "ORDERNUMBER               int64\n",
            "QUANTITYORDERED           int64\n",
            "PRICEEACH               float64\n",
            "ORDERLINENUMBER           int64\n",
            "SALES                   float64\n",
            "ORDERDATE                object\n",
            "DAYS_SINCE_LASTORDER      int64\n",
            "STATUS                   object\n",
            "PRODUCTLINE              object\n",
            "MSRP                      int64\n",
            "PRODUCTCODE              object\n",
            "CUSTOMERNAME             object\n",
            "PHONE                    object\n",
            "ADDRESSLINE1             object\n",
            "CITY                     object\n",
            "POSTALCODE               object\n",
            "COUNTRY                  object\n",
            "CONTACTLASTNAME          object\n",
            "CONTACTFIRSTNAME         object\n",
            "DEALSIZE                 object\n",
            "dtype: object\n"
          ]
        }
      ]
    },
    {
      "cell_type": "code",
      "source": [
        "print(f'As variáveis com mais dados faltantes, em porcentagem (%), são:\\n')\n",
        "((df.isnull().sum() / df.shape[0])*100).sort_values(ascending=False)"
      ],
      "metadata": {
        "colab": {
          "base_uri": "https://localhost:8080/",
          "height": 746
        },
        "id": "yZEB2Sp2cSNC",
        "outputId": "3605cf4b-2ab3-4b83-c50f-a2b098c6fd0c"
      },
      "execution_count": 126,
      "outputs": [
        {
          "output_type": "stream",
          "name": "stdout",
          "text": [
            "As variáveis com mais dados faltantes, em porcentagem (%), são:\n",
            "\n"
          ]
        },
        {
          "output_type": "execute_result",
          "data": {
            "text/plain": [
              "ORDERNUMBER             0.0\n",
              "QUANTITYORDERED         0.0\n",
              "PRICEEACH               0.0\n",
              "ORDERLINENUMBER         0.0\n",
              "SALES                   0.0\n",
              "ORDERDATE               0.0\n",
              "DAYS_SINCE_LASTORDER    0.0\n",
              "STATUS                  0.0\n",
              "PRODUCTLINE             0.0\n",
              "MSRP                    0.0\n",
              "PRODUCTCODE             0.0\n",
              "CUSTOMERNAME            0.0\n",
              "PHONE                   0.0\n",
              "ADDRESSLINE1            0.0\n",
              "CITY                    0.0\n",
              "POSTALCODE              0.0\n",
              "COUNTRY                 0.0\n",
              "CONTACTLASTNAME         0.0\n",
              "CONTACTFIRSTNAME        0.0\n",
              "DEALSIZE                0.0\n",
              "dtype: float64"
            ],
            "text/html": [
              "<div>\n",
              "<style scoped>\n",
              "    .dataframe tbody tr th:only-of-type {\n",
              "        vertical-align: middle;\n",
              "    }\n",
              "\n",
              "    .dataframe tbody tr th {\n",
              "        vertical-align: top;\n",
              "    }\n",
              "\n",
              "    .dataframe thead th {\n",
              "        text-align: right;\n",
              "    }\n",
              "</style>\n",
              "<table border=\"1\" class=\"dataframe\">\n",
              "  <thead>\n",
              "    <tr style=\"text-align: right;\">\n",
              "      <th></th>\n",
              "      <th>0</th>\n",
              "    </tr>\n",
              "  </thead>\n",
              "  <tbody>\n",
              "    <tr>\n",
              "      <th>ORDERNUMBER</th>\n",
              "      <td>0.0</td>\n",
              "    </tr>\n",
              "    <tr>\n",
              "      <th>QUANTITYORDERED</th>\n",
              "      <td>0.0</td>\n",
              "    </tr>\n",
              "    <tr>\n",
              "      <th>PRICEEACH</th>\n",
              "      <td>0.0</td>\n",
              "    </tr>\n",
              "    <tr>\n",
              "      <th>ORDERLINENUMBER</th>\n",
              "      <td>0.0</td>\n",
              "    </tr>\n",
              "    <tr>\n",
              "      <th>SALES</th>\n",
              "      <td>0.0</td>\n",
              "    </tr>\n",
              "    <tr>\n",
              "      <th>ORDERDATE</th>\n",
              "      <td>0.0</td>\n",
              "    </tr>\n",
              "    <tr>\n",
              "      <th>DAYS_SINCE_LASTORDER</th>\n",
              "      <td>0.0</td>\n",
              "    </tr>\n",
              "    <tr>\n",
              "      <th>STATUS</th>\n",
              "      <td>0.0</td>\n",
              "    </tr>\n",
              "    <tr>\n",
              "      <th>PRODUCTLINE</th>\n",
              "      <td>0.0</td>\n",
              "    </tr>\n",
              "    <tr>\n",
              "      <th>MSRP</th>\n",
              "      <td>0.0</td>\n",
              "    </tr>\n",
              "    <tr>\n",
              "      <th>PRODUCTCODE</th>\n",
              "      <td>0.0</td>\n",
              "    </tr>\n",
              "    <tr>\n",
              "      <th>CUSTOMERNAME</th>\n",
              "      <td>0.0</td>\n",
              "    </tr>\n",
              "    <tr>\n",
              "      <th>PHONE</th>\n",
              "      <td>0.0</td>\n",
              "    </tr>\n",
              "    <tr>\n",
              "      <th>ADDRESSLINE1</th>\n",
              "      <td>0.0</td>\n",
              "    </tr>\n",
              "    <tr>\n",
              "      <th>CITY</th>\n",
              "      <td>0.0</td>\n",
              "    </tr>\n",
              "    <tr>\n",
              "      <th>POSTALCODE</th>\n",
              "      <td>0.0</td>\n",
              "    </tr>\n",
              "    <tr>\n",
              "      <th>COUNTRY</th>\n",
              "      <td>0.0</td>\n",
              "    </tr>\n",
              "    <tr>\n",
              "      <th>CONTACTLASTNAME</th>\n",
              "      <td>0.0</td>\n",
              "    </tr>\n",
              "    <tr>\n",
              "      <th>CONTACTFIRSTNAME</th>\n",
              "      <td>0.0</td>\n",
              "    </tr>\n",
              "    <tr>\n",
              "      <th>DEALSIZE</th>\n",
              "      <td>0.0</td>\n",
              "    </tr>\n",
              "  </tbody>\n",
              "</table>\n",
              "</div><br><label><b>dtype:</b> float64</label>"
            ]
          },
          "metadata": {},
          "execution_count": 126
        }
      ]
    },
    {
      "cell_type": "code",
      "source": [
        "X = df.drop(columns=['SALES']).select_dtypes(include=['number'])\n",
        "y = df['SALES'].astype(float)\n"
      ],
      "metadata": {
        "id": "VRR0NP5-cxW5"
      },
      "execution_count": 127,
      "outputs": []
    },
    {
      "cell_type": "markdown",
      "source": [
        "#Separando Treino"
      ],
      "metadata": {
        "id": "8K1yruvwguyK"
      }
    },
    {
      "cell_type": "code",
      "source": [
        "X_train, X_test, y_train, y_test = train_test_split(X, y, test_size=0.2, random_state=42)"
      ],
      "metadata": {
        "id": "tN8YHXjrep8G"
      },
      "execution_count": 128,
      "outputs": []
    },
    {
      "cell_type": "code",
      "source": [
        "def avaliar_modelo(y_true, y_pred, nome=\"Modelo\"):\n",
        "    rmse = np.sqrt(mean_squared_error(y_true, y_pred))\n",
        "    print(f\"{nome} - RMSE: {rmse:.2f}\")"
      ],
      "metadata": {
        "id": "H0aGu8ImeroO"
      },
      "execution_count": 129,
      "outputs": []
    },
    {
      "cell_type": "markdown",
      "source": [
        "#Regressão Linear"
      ],
      "metadata": {
        "id": "4PwdnEi3gzaj"
      }
    },
    {
      "cell_type": "code",
      "source": [
        "modelo_lr = LinearRegression()\n",
        "modelo_lr.fit(X_train, y_train)\n",
        "\n",
        "pred_lr = modelo_lr.predict(X_test)\n",
        "avaliar_modelo(y_test, pred_lr, \"Regressão Linear\")"
      ],
      "metadata": {
        "colab": {
          "base_uri": "https://localhost:8080/"
        },
        "id": "GReQ7Pi7euBW",
        "outputId": "19bf031c-4d66-4e3c-b8db-cae207ffe7d4"
      },
      "execution_count": 130,
      "outputs": [
        {
          "output_type": "stream",
          "name": "stdout",
          "text": [
            "Regressão Linear - RMSE: 411.35\n"
          ]
        }
      ]
    },
    {
      "cell_type": "markdown",
      "source": [
        "#Árvore de Regressão"
      ],
      "metadata": {
        "id": "BBg4E1olg1ib"
      }
    },
    {
      "cell_type": "code",
      "source": [
        "modelo_tree = DecisionTreeRegressor(random_state=42)\n",
        "modelo_tree.fit(X_train, y_train)\n",
        "\n",
        "pred_tree = modelo_tree.predict(X_test)\n",
        "avaliar_modelo(y_test, pred_tree, \"Árvore de Regressão\")"
      ],
      "metadata": {
        "colab": {
          "base_uri": "https://localhost:8080/"
        },
        "id": "rUvDtUxdfPbZ",
        "outputId": "2fdd45c4-fa45-4a4e-9a48-ba5ed0b667fb"
      },
      "execution_count": 131,
      "outputs": [
        {
          "output_type": "stream",
          "name": "stdout",
          "text": [
            "Árvore de Regressão - RMSE: 207.10\n"
          ]
        }
      ]
    },
    {
      "cell_type": "markdown",
      "source": [
        "#Random Forest Regressor"
      ],
      "metadata": {
        "id": "Uu05o2BRg4hL"
      }
    },
    {
      "cell_type": "code",
      "source": [
        "modelo_rf = RandomForestRegressor(n_estimators=100, random_state=42)\n",
        "modelo_rf.fit(X_train, y_train)\n",
        "\n",
        "pred_rf = modelo_rf.predict(X_test)\n",
        "avaliar_modelo(y_test, pred_rf, \"Random Forest\")"
      ],
      "metadata": {
        "colab": {
          "base_uri": "https://localhost:8080/"
        },
        "id": "XpL5FoPRfSiR",
        "outputId": "6b805f6d-ed90-4f51-fdee-517b6172a359"
      },
      "execution_count": 132,
      "outputs": [
        {
          "output_type": "stream",
          "name": "stdout",
          "text": [
            "Random Forest - RMSE: 120.48\n"
          ]
        }
      ]
    },
    {
      "cell_type": "markdown",
      "source": [
        "Support Vector Regressor (SVR)"
      ],
      "metadata": {
        "id": "yN0YdGGPhB_c"
      }
    },
    {
      "cell_type": "code",
      "source": [
        "modelo_svr = make_pipeline(StandardScaler(), SVR(kernel='rbf', C=100, epsilon=0.1))\n",
        "modelo_svr.fit(X_train, y_train)\n",
        "\n",
        "pred_svr = modelo_svr.predict(X_test)\n",
        "avaliar_modelo(y_test, pred_svr, \"SVR\")"
      ],
      "metadata": {
        "colab": {
          "base_uri": "https://localhost:8080/"
        },
        "id": "Pu-BL-PlhIw1",
        "outputId": "bbeac73d-115c-4008-d1c6-4001f6719e40"
      },
      "execution_count": 133,
      "outputs": [
        {
          "output_type": "stream",
          "name": "stdout",
          "text": [
            "SVR - RMSE: 439.28\n"
          ]
        }
      ]
    },
    {
      "cell_type": "markdown",
      "source": [
        "#Comparando"
      ],
      "metadata": {
        "id": "xXXKljM1hK-d"
      }
    },
    {
      "cell_type": "code",
      "source": [
        "plt.figure(figsize=(10, 6))\n",
        "sns.kdeplot(y_test - pred_lr, label=\"Linear\")\n",
        "sns.kdeplot(y_test - pred_tree, label=\"Tree\")\n",
        "sns.kdeplot(y_test - pred_rf, label=\"Random Forest\")\n",
        "sns.kdeplot(y_test - pred_svr, label=\"SVR\")\n",
        "\n",
        "plt.title(\"Distribuição dos Erros de Predição\")\n",
        "plt.xlabel(\"Erro\")\n",
        "plt.ylabel(\"Densidade\")\n",
        "plt.grid(True)\n",
        "plt.legend()\n",
        "plt.show()"
      ],
      "metadata": {
        "colab": {
          "base_uri": "https://localhost:8080/",
          "height": 564
        },
        "id": "nKFBzOBfhNBV",
        "outputId": "1cdb010b-20d9-460e-a225-f6352ae4e9a3"
      },
      "execution_count": 134,
      "outputs": [
        {
          "output_type": "display_data",
          "data": {
            "text/plain": [
              "<Figure size 1000x600 with 1 Axes>"
            ],
            "image/png": "[encoded data removed]"
          },
          "metadata": {}
        }
      ]
    },
    {
      "cell_type": "markdown",
      "source": [
        "Aqui podemos analisar que Arvore de regressão e Random Forest são os modelos com melhor desempenho, suas curvas são mais altas e estreitas e centradas em 0, isso nos mostra que a maioria das previsões feitas por esse modelo tem erros menores.\n"
      ],
      "metadata": {
        "id": "D5Ob2AzcJpTi"
      }
    },
    {
      "cell_type": "code",
      "source": [
        "X = df[['QUANTITYORDERED', 'PRICEEACH', 'ORDERLINENUMBER', 'SALES', 'DAYS_SINCE_LASTORDER', 'MSRP']]\n",
        "y = df['DEALSIZE']"
      ],
      "metadata": {
        "id": "ffvdm7cU38Fw"
      },
      "execution_count": 135,
      "outputs": []
    },
    {
      "cell_type": "code",
      "source": [
        "#Padronização dos dados\n",
        "scaler = StandardScaler()\n",
        "X_scaled = scaler.fit_transform(X)"
      ],
      "metadata": {
        "id": "DLaKif2L4ATY"
      },
      "execution_count": 136,
      "outputs": []
    },
    {
      "cell_type": "markdown",
      "source": [
        "#Separando Testes"
      ],
      "metadata": {
        "id": "EpWTOqsP5qvp"
      }
    },
    {
      "cell_type": "code",
      "source": [
        "X_train, X_test, y_train, y_test = train_test_split(\n",
        "    X_scaled, y, test_size=0.3, random_state=42\n",
        ")"
      ],
      "metadata": {
        "id": "ZHOeojVo4EwY"
      },
      "execution_count": 137,
      "outputs": []
    },
    {
      "cell_type": "markdown",
      "source": [
        "#Algoritmos de Classificação"
      ],
      "metadata": {
        "id": "3K_AvPJk5tYi"
      }
    },
    {
      "cell_type": "code",
      "source": [
        "modelos = {\n",
        "    \"Regressão Logística\": LogisticRegression(max_iter=200),\n",
        "    \"Árvore de Decisão\": DecisionTreeClassifier(random_state=42),\n",
        "    \"Random Forest\": RandomForestClassifier(n_estimators=100, random_state=42),\n",
        "    \"SVM\": SVC(kernel='rbf'),\n",
        "    \"K-NN\": KNeighborsClassifier(n_neighbors=5)\n",
        "}"
      ],
      "metadata": {
        "id": "rYaAdsug4IC4"
      },
      "execution_count": 147,
      "outputs": []
    },
    {
      "cell_type": "markdown",
      "source": [
        "#Avaliação por modelo"
      ],
      "metadata": {
        "id": "xWOrO7if5wTi"
      }
    },
    {
      "cell_type": "code",
      "source": [
        "for nome, modelo in modelos.items():\n",
        "    modelo.fit(X_train, y_train)\n",
        "    y_pred = modelo.predict(X_test)\n",
        "\n",
        "    acc = accuracy_score(y_test, y_pred)\n",
        "    prec = precision_score(y_test, y_pred, average='macro', zero_division=0)\n",
        "    rec = recall_score(y_test, y_pred, average='macro', zero_division=0)\n",
        "    f1 = f1_score(y_test, y_pred, average='macro', zero_division=0)\n",
        "    cm = confusion_matrix(y_test, y_pred)\n",
        "\n",
        "    print(f\"\\n {nome}\")\n",
        "    print(f\"Acurácia : {acc:.2f}\")\n",
        "    print(f\"Precisão : {prec:.2f}\")\n",
        "    print(f\"Recall   : {rec:.2f}\")\n",
        "    print(f\"F1-Score : {f1:.2f}\")\n",
        "\n",
        "    # Matriz de confusão\n",
        "    plt.figure(figsize=(4, 3))\n",
        "    sns.heatmap(cm, annot=True, fmt='d', cmap='Blues',)\n",
        "    plt.title(f'Matriz de Confusão - {nome}')\n",
        "    plt.xlabel(\"Previsto\")\n",
        "    plt.ylabel(\"Verdadeiro\")\n",
        "    plt.tight_layout()\n",
        "    plt.show()"
      ],
      "metadata": {
        "colab": {
          "base_uri": "https://localhost:8080/",
          "height": 1000
        },
        "id": "MmssAdHm4KCg",
        "outputId": "18f4a522-42d1-4a77-ff88-291b7eeb3f87"
      },
      "execution_count": 148,
      "outputs": [
        {
          "output_type": "stream",
          "name": "stdout",
          "text": [
            "\n",
            " Regressão Logística\n",
            "Acurácia : 0.99\n",
            "Precisão : 0.99\n",
            "Recall   : 0.97\n",
            "F1-Score : 0.98\n"
          ]
        },
        {
          "output_type": "display_data",
          "data": {
            "text/plain": [
              "<Figure size 400x300 with 2 Axes>"
            ],
            "image/png": "[encoded data removed]"
          },
          "metadata": {}
        },
        {
          "output_type": "stream",
          "name": "stdout",
          "text": [
            "\n",
            " Árvore de Decisão\n",
            "Acurácia : 1.00\n",
            "Precisão : 1.00\n",
            "Recall   : 1.00\n",
            "F1-Score : 1.00\n"
          ]
        },
        {
          "output_type": "display_data",
          "data": {
            "text/plain": [
              "<Figure size 400x300 with 2 Axes>"
            ],
            "image/png": "[encoded data removed]"
          },
          "metadata": {}
        },
        {
          "output_type": "stream",
          "name": "stdout",
          "text": [
            "\n",
            " Random Forest\n",
            "Acurácia : 1.00\n",
            "Precisão : 1.00\n",
            "Recall   : 1.00\n",
            "F1-Score : 1.00\n"
          ]
        },
        {
          "output_type": "display_data",
          "data": {
            "text/plain": [
              "<Figure size 400x300 with 2 Axes>"
            ],
            "image/png": "[encoded data removed]"
          },
          "metadata": {}
        },
        {
          "output_type": "stream",
          "name": "stdout",
          "text": [
            "\n",
            " SVM\n",
            "Acurácia : 0.97\n",
            "Precisão : 0.96\n",
            "Recall   : 0.96\n",
            "F1-Score : 0.96\n"
          ]
        },
        {
          "output_type": "display_data",
          "data": {
            "text/plain": [
              "<Figure size 400x300 with 2 Axes>"
            ],
            "image/png": "[encoded data removed]"
          },
          "metadata": {}
        },
        {
          "output_type": "stream",
          "name": "stdout",
          "text": [
            "\n",
            " K-NN\n",
            "Acurácia : 0.93\n",
            "Precisão : 0.92\n",
            "Recall   : 0.92\n",
            "F1-Score : 0.92\n"
          ]
        },
        {
          "output_type": "display_data",
          "data": {
            "text/plain": [
              "<Figure size 400x300 with 2 Axes>"
            ],
            "image/png": "[encoded data removed]"
          },
          "metadata": {}
        }
      ]
    },
    {
      "cell_type": "markdown",
      "source": [
        "Aqui também podemos ver que os algoritimos de Arvore de dewsição e Random Forest apresentam um ótimo desempenho, resultando 1.0 em todas as métricas, indicando serem os melhores na classificação do tamanho das vendas. Os outros também tiveram resultados muito fortes, como A regressão Logística que teve acurácia de 0.99."
      ],
      "metadata": {
        "id": "uLi118f5KzY8"
      }
    },
    {
      "cell_type": "markdown",
      "source": [
        "#Defesa da escolha dos Hiperparâmetros\n",
        "\n",
        "Para cada algoritmo, os hiperparâmetros foram definidos com base em valores padrão e pequenas variações justificadas pela lógica operacional de cada modelo, sempre respeitando os limites do conteúdo estudado em aula. Algumas escolhas são justificadas a seguir:\n",
        "\n",
        "K-NN: foi realizado testes com k= 3, 5 e 7. O valore escolhido foi o k=5, pois apresentou os melhores resultados no conjunto de teste, com acurácia de 93% e o recall 92%, mostrando que teve a melhor capacidade de identificar corretamente as classes reais.\n",
        "\n",
        "SVM / SVR: foi utilizado o kernel para ambas com o valor 1, isso permitiu um equilíbrio entre generalização e performance, o resultado obteve acurácia de 97%. Para o SVR usei C = 100, o que dá mais peso aos erros durante o treinamento e SVC usei o valor padrão C = 1.0, buscando um bom equilíbrio entre ajuste e generalização.\n",
        "\n",
        "Random Forest: foi usado n_estimators=100, que ofereceu 100% de acurácia sem exigir ajustes adicionais. O modelo mostrou-se estável e preciso.\n",
        "\n",
        "Árvore de Decisão: foi usado paramentros padrão, obtendo também acurácia de 100%. Isso indica que os dados possuem separabilidade clara.\n",
        "\n",
        "Regressão Logística: O modelo foi utilizado com os parâmetros padrão da biblioteca scikit-learn, obtendo uma acurácia de 99%, com boa generalização.\n",
        "\n"
      ],
      "metadata": {
        "id": "cEVUIGdK6LRU"
      }
    },
    {
      "cell_type": "markdown",
      "source": [
        "#Análise e Interpretação dos resultados\n",
        "\n",
        "A analise foi dividida em 2 partes, Modelos de regressão usando (SALES) e modelos de classificação usando (DEALSIZE).\n",
        "\n",
        "Nos modelos de regressão, com base nos resultados obtidos, podemos ver que o Random Forest apresentou os melhores resultados, RMSE: 120.48, sendo ele o menor, isso indica que ele é o modelo mais preciso na previsão de vendas. A Arvore de Regressão taambém demostrou boa perfomance com RMSE: 207.10. No gráfico podemos notar com Randon Forest e Arvore de Desisão possuem curvas mais altas e estreitas do que as outras, indicando que tenden a cometer menos erros.\n",
        "\n",
        "Nos algoritimos de classificação, utilizando as métricas de acurácia, precisão, recall, f1-score e as mátrizes de confusão, notamos que a Arvore de decisão e Random Forest alcançaram um desempenho perfeito em todas as métricas, indicando que esses modelos foram capazes de categorizar os tamanhos dos negócios com 1005 de precisão no conjunto de testes. O K-NN, mesmo tendo sido o que apresentou menor desempenho entre os classificadores, com acurácia de 0.93, ainda assim obteve um resultado considerado alto, o que pode indicar que o número de vizinhos selecionado pode ter impactado o resultado."
      ],
      "metadata": {
        "id": "Gj8xa9rcIIpr"
      }
    },
    {
      "cell_type": "markdown",
      "source": [],
      "metadata": {
        "id": "8QWbxnQKIQSx"
      }
    },
    {
      "cell_type": "markdown",
      "source": [
        "#Conclusão Geral\n",
        "\n",
        "Com base em todos os resultados obtidos, a conclusão é que os modelos baseados em árvores, Random Forest e Árvore de Decisão, se destacam consistentemente como os mais eficazes para as ambas as tarefas de regressão, usando SALES, e classificação do tamanho do negócio, usando DEALSIZE, eles mostraram um desempenho mais consistente e eficaz ao lidar com os padrões presentes no conjunto de dados.\n",
        "\n",
        "Esse resultado reforça a ideia de que os dados automotivos analisados possuem relações complexas e não lineares, que os algoritmos de árvore conseguem capturar de forma mais precisa. Embora modelos como Regressão Linear e SVR tragam uma abordagem mais tradicional, e Regressão Logística e SVM tenham apresentado bons resultados para classificação, os modelos de árvore demonstraram uma superioridade clara na hora de representar essas nuances.\n"
      ],
      "metadata": {
        "id": "68AAovP7PMDE"
      }
    }
  ]
}